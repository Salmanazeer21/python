{
 "cells": [
  {
   "cell_type": "code",
   "execution_count": 1,
   "id": "bf803786-f9c6-4058-b4d4-fcf5d5d415cf",
   "metadata": {},
   "outputs": [
    {
     "data": {
      "text/plain": [
       "range(0, 20)"
      ]
     },
     "execution_count": 1,
     "metadata": {},
     "output_type": "execute_result"
    }
   ],
   "source": [
    "range(0,20)"
   ]
  },
  {
   "cell_type": "code",
   "execution_count": 2,
   "id": "a7eb9b6a-60e3-4b75-b750-9c6f3408ee66",
   "metadata": {},
   "outputs": [
    {
     "name": "stdout",
     "output_type": "stream",
     "text": [
      "0\n",
      "1\n",
      "2\n",
      "3\n",
      "4\n",
      "5\n",
      "6\n",
      "7\n",
      "8\n",
      "9\n",
      "10\n",
      "11\n",
      "12\n",
      "13\n",
      "14\n",
      "15\n",
      "16\n",
      "17\n",
      "18\n",
      "19\n"
     ]
    }
   ],
   "source": [
    "for num in range(0,20):\n",
    "    print(num)"
   ]
  },
  {
   "cell_type": "code",
   "execution_count": 3,
   "id": "47d64e30-9efc-4521-811d-ce941ebee47e",
   "metadata": {},
   "outputs": [
    {
     "data": {
      "text/plain": [
       "range(10, 20)"
      ]
     },
     "execution_count": 3,
     "metadata": {},
     "output_type": "execute_result"
    }
   ],
   "source": [
    "range(10,20)"
   ]
  },
  {
   "cell_type": "code",
   "execution_count": 4,
   "id": "2c583e1d-51b0-4c3f-9ff6-65dfdfa01a61",
   "metadata": {},
   "outputs": [
    {
     "name": "stdout",
     "output_type": "stream",
     "text": [
      "10\n",
      "11\n",
      "12\n",
      "13\n",
      "14\n",
      "15\n",
      "16\n",
      "17\n",
      "18\n",
      "19\n"
     ]
    }
   ],
   "source": [
    "for num in range(10,20):\n",
    "    print(num)"
   ]
  },
  {
   "cell_type": "code",
   "execution_count": 5,
   "id": "98d198cd-4b4f-4e54-9d72-f3f16d6abb45",
   "metadata": {},
   "outputs": [],
   "source": [
    "lists=[10,20,14,55,43,87,76]"
   ]
  },
  {
   "cell_type": "code",
   "execution_count": 6,
   "id": "efc94999-e12e-4bf2-9d32-af921a3c4768",
   "metadata": {},
   "outputs": [
    {
     "name": "stdout",
     "output_type": "stream",
     "text": [
      "number of items in the list: 7\n"
     ]
    }
   ],
   "source": [
    "print(\"number of items in the list:\", len(lists))"
   ]
  },
  {
   "cell_type": "code",
   "execution_count": 7,
   "id": "05bd64de-266c-472c-9462-1c2c69c77906",
   "metadata": {},
   "outputs": [],
   "source": [
    "name=\"Artificial Intelligence\""
   ]
  },
  {
   "cell_type": "code",
   "execution_count": 8,
   "id": "483e2f9b-d41a-4d72-b114-53c74092243a",
   "metadata": {},
   "outputs": [
    {
     "name": "stdout",
     "output_type": "stream",
     "text": [
      "A\n",
      "r\n",
      "t\n",
      "i\n",
      "f\n",
      "i\n",
      "c\n",
      "i\n",
      "a\n",
      "l\n",
      " \n",
      "I\n",
      "n\n",
      "t\n",
      "e\n",
      "l\n",
      "l\n",
      "i\n",
      "g\n",
      "e\n",
      "n\n",
      "c\n",
      "e\n"
     ]
    }
   ],
   "source": [
    "for name in name:\n",
    "    print(name)"
   ]
  },
  {
   "cell_type": "code",
   "execution_count": 9,
   "id": "2273af7f-d641-417f-bb13-30fabd30d69a",
   "metadata": {},
   "outputs": [
    {
     "name": "stdout",
     "output_type": "stream",
     "text": [
      "-your name-\n",
      "-your age-\n",
      "-your profession-\n"
     ]
    }
   ],
   "source": [
    "print(\"-your name-\")\n",
    "print(\"-your age-\")\n",
    "print(\"-your profession-\")"
   ]
  },
  {
   "cell_type": "code",
   "execution_count": 10,
   "id": "5e2951ec-4a7b-4adb-9415-36b1b0e6e57a",
   "metadata": {},
   "outputs": [
    {
     "name": "stdout",
     "output_type": "stream",
     "text": [
      "((0, 1, 2, 3), ('python', 'Hope'))\n"
     ]
    }
   ],
   "source": [
    "tup=(1,'Welcome', 2,'Hope')\n",
    "tup1=(0,1,2,3)\n",
    "tup2=('python', 'Hope')\n",
    "tup3=(tup1,tup2)\n",
    "print(tup3)"
   ]
  },
  {
   "cell_type": "code",
   "execution_count": 27,
   "id": "094fc106-88e2-4997-826b-7e283c0fded5",
   "metadata": {},
   "outputs": [],
   "source": [
    "lists=[20, 10, 16, 19, 25, 1, 276, 188]"
   ]
  },
  {
   "cell_type": "code",
   "execution_count": 33,
   "id": "10de27b6-7364-4e95-b5c9-d6535ae9e062",
   "metadata": {},
   "outputs": [
    {
     "name": "stdout",
     "output_type": "stream",
     "text": [
      "Odd numbers in the list: [19, 25, 1]\n"
     ]
    }
   ],
   "source": [
    "odd_numbers=[num for num in lists if num%2 != 0]  # Filtering odd numbers\n",
    "print(\"Odd numbers in the list:\", odd_numbers)"
   ]
  },
  {
   "cell_type": "code",
   "execution_count": 39,
   "id": "826e39b0-42bd-4d53-9916-39b80d36aad8",
   "metadata": {},
   "outputs": [
    {
     "name": "stdout",
     "output_type": "stream",
     "text": [
      "Even numbers: [20, 10, 16, 276, 188]\n"
     ]
    }
   ],
   "source": [
    "even_numbers=[num for num in lists if num%2== 0]\n",
    "print(\"Even numbers:\", even_numbers)"
   ]
  },
  {
   "cell_type": "code",
   "execution_count": null,
   "id": "2c1b9388-2489-4e5d-b672-fd0136c79ed0",
   "metadata": {},
   "outputs": [],
   "source": []
  }
 ],
 "metadata": {
  "kernelspec": {
   "display_name": "Python [conda env:base] *",
   "language": "python",
   "name": "conda-base-py"
  },
  "language_info": {
   "codemirror_mode": {
    "name": "ipython",
    "version": 3
   },
   "file_extension": ".py",
   "mimetype": "text/x-python",
   "name": "python",
   "nbconvert_exporter": "python",
   "pygments_lexer": "ipython3",
   "version": "3.12.7"
  }
 },
 "nbformat": 4,
 "nbformat_minor": 5
}
