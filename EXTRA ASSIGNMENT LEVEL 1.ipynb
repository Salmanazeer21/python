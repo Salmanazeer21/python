{
 "cells": [
  {
   "cell_type": "code",
   "execution_count": 1,
   "id": "ab46179d-fd66-4c53-9414-e321fdf981f8",
   "metadata": {},
   "outputs": [
    {
     "name": "stdout",
     "output_type": "stream",
     "text": [
      "HOPE AI\n"
     ]
    }
   ],
   "source": [
    "print(\"HOPE AI\")"
   ]
  },
  {
   "cell_type": "code",
   "execution_count": 3,
   "id": "d7a63e4f-0ae2-4afe-879d-6a9ecec2fec8",
   "metadata": {},
   "outputs": [],
   "source": [
    "institutename=\"HOPE AI\""
   ]
  },
  {
   "cell_type": "code",
   "execution_count": 5,
   "id": "24d8d9c1-a54c-4825-890c-98392a74d0e4",
   "metadata": {},
   "outputs": [
    {
     "name": "stdin",
     "output_type": "stream",
     "text": [
      "Enter the institute name? HOPE AI\n"
     ]
    }
   ],
   "source": [
    "institutename=(input(\"Enter the institute name?\"))"
   ]
  },
  {
   "cell_type": "code",
   "execution_count": 11,
   "id": "16caa7be-212d-4537-b7c6-5ce9c1085dfd",
   "metadata": {},
   "outputs": [
    {
     "name": "stdin",
     "output_type": "stream",
     "text": [
      "Enter your name Raj\n",
      "Enter your age 15\n",
      "Enter your school name Guru school\n",
      "Enter your degree B.E CSE\n"
     ]
    }
   ],
   "source": [
    "institutename=(input(\"Enter your name\"))\n",
    "institutename=(input(\"Enter your age\"))\n",
    "institutename=(input(\"Enter your school name\"))\n",
    "institutename=(input(\"Enter your degree\"))"
   ]
  },
  {
   "cell_type": "code",
   "execution_count": 31,
   "id": "20c34024-538b-4b19-bf76-329f7a9c4e9a",
   "metadata": {},
   "outputs": [],
   "source": [
    "a=43\n",
    "b=34\n",
    "add=a+b"
   ]
  },
  {
   "cell_type": "code",
   "execution_count": 33,
   "id": "5381172c-732c-418c-bd42-9d5508b8f6a9",
   "metadata": {},
   "outputs": [
    {
     "name": "stdout",
     "output_type": "stream",
     "text": [
      "add\n",
      "77\n"
     ]
    }
   ],
   "source": [
    "print(\"add\")\n",
    "print(add)"
   ]
  },
  {
   "cell_type": "code",
   "execution_count": 45,
   "id": "8f9516c1-a14e-4b18-b6dd-d57367d38e0a",
   "metadata": {},
   "outputs": [],
   "source": [
    "sub=a-b"
   ]
  },
  {
   "cell_type": "code",
   "execution_count": 47,
   "id": "b05e6dad-5818-4448-bdcb-656e3563bdb1",
   "metadata": {},
   "outputs": [
    {
     "name": "stdout",
     "output_type": "stream",
     "text": [
      "sub\n",
      "9\n"
     ]
    }
   ],
   "source": [
    "print(\"sub\")\n",
    "print(sub)"
   ]
  },
  {
   "cell_type": "code",
   "execution_count": 49,
   "id": "66b9d87c-ef10-4f8a-a03c-f0441c3c7cda",
   "metadata": {},
   "outputs": [],
   "source": [
    "a=63\n",
    "b=97\n",
    "mul=a*b"
   ]
  },
  {
   "cell_type": "code",
   "execution_count": 51,
   "id": "a3d6d00d-19bd-405d-bfb4-fb4c2be2abee",
   "metadata": {},
   "outputs": [
    {
     "name": "stdout",
     "output_type": "stream",
     "text": [
      "mul\n",
      "6111\n"
     ]
    }
   ],
   "source": [
    "print(\"mul\")\n",
    "print(mul)"
   ]
  },
  {
   "cell_type": "code",
   "execution_count": 67,
   "id": "755334ed-0463-43a2-8e63-336c4b04620b",
   "metadata": {},
   "outputs": [],
   "source": [
    "a=76\n",
    "b=31\n",
    "FloatDiv=a/b\n",
    "FloorDiv=a//b"
   ]
  },
  {
   "cell_type": "code",
   "execution_count": 69,
   "id": "dc74fcf4-f741-4a53-a2bf-da47649a79c5",
   "metadata": {},
   "outputs": [
    {
     "name": "stdout",
     "output_type": "stream",
     "text": [
      "FloatDiv\n",
      "2.4516129032258065\n"
     ]
    }
   ],
   "source": [
    "print(\"FloatDiv\")\n",
    "print(FloatDiv)"
   ]
  },
  {
   "cell_type": "code",
   "execution_count": 71,
   "id": "0b026a68-0f30-4b62-b9a3-929ef64d2b75",
   "metadata": {},
   "outputs": [
    {
     "name": "stdout",
     "output_type": "stream",
     "text": [
      "FloorDiv\n",
      "2\n"
     ]
    }
   ],
   "source": [
    "print(\"FloorDiv\")\n",
    "print(FloorDiv)"
   ]
  },
  {
   "cell_type": "code",
   "execution_count": 79,
   "id": "e2e93c58-2bac-4f30-87fe-f287314c062e",
   "metadata": {},
   "outputs": [],
   "source": [
    "modulo=a%b"
   ]
  },
  {
   "cell_type": "code",
   "execution_count": 81,
   "id": "7efc4610-1d20-46a1-bb15-d5af79543a4d",
   "metadata": {},
   "outputs": [
    {
     "name": "stdout",
     "output_type": "stream",
     "text": [
      "modulo\n",
      "14\n"
     ]
    }
   ],
   "source": [
    "print(\"modulo\")\n",
    "print(modulo)"
   ]
  },
  {
   "cell_type": "code",
   "execution_count": 83,
   "id": "c0c20170-5780-492c-9459-8b5692a79d68",
   "metadata": {},
   "outputs": [],
   "source": [
    "a=4\n",
    "b=4\n",
    "power=a**b"
   ]
  },
  {
   "cell_type": "code",
   "execution_count": 85,
   "id": "b779d428-06f5-4633-9e14-7bcde4c10769",
   "metadata": {},
   "outputs": [
    {
     "name": "stdout",
     "output_type": "stream",
     "text": [
      "power\n",
      "256\n"
     ]
    }
   ],
   "source": [
    "print(\"power\")\n",
    "print(power)"
   ]
  },
  {
   "cell_type": "code",
   "execution_count": null,
   "id": "623d62ec-9610-40a1-ada5-941573f5b111",
   "metadata": {},
   "outputs": [],
   "source": []
  }
 ],
 "metadata": {
  "kernelspec": {
   "display_name": "Python [conda env:base] *",
   "language": "python",
   "name": "conda-base-py"
  },
  "language_info": {
   "codemirror_mode": {
    "name": "ipython",
    "version": 3
   },
   "file_extension": ".py",
   "mimetype": "text/x-python",
   "name": "python",
   "nbconvert_exporter": "python",
   "pygments_lexer": "ipython3",
   "version": "3.12.7"
  }
 },
 "nbformat": 4,
 "nbformat_minor": 5
}
