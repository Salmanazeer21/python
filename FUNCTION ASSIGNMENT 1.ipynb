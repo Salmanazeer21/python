{
 "cells": [
  {
   "cell_type": "code",
   "execution_count": 1,
   "id": "edba6c33-8eb4-412f-ad73-e6649af5a152",
   "metadata": {},
   "outputs": [],
   "source": [
    "SubfieldsInAI=\"machine learning, neural networks, vision, robotics, speech processing, natural language processing\""
   ]
  },
  {
   "cell_type": "code",
   "execution_count": 3,
   "id": "fd97415c-be51-4f19-b18e-db56ca57df25",
   "metadata": {},
   "outputs": [],
   "source": [
    "def Subfields():\n",
    "    print(\"SubfieldsInAI\")\n",
    "    return SubfieldsInAI"
   ]
  },
  {
   "cell_type": "code",
   "execution_count": 5,
   "id": "f743b0bf-04d1-40bf-b7f6-133da9c75f88",
   "metadata": {},
   "outputs": [
    {
     "name": "stdout",
     "output_type": "stream",
     "text": [
      "SubfieldsInAI\n"
     ]
    },
    {
     "data": {
      "text/plain": [
       "'machine learning, neural networks, vision, robotics, speech processing, natural language processing'"
      ]
     },
     "execution_count": 5,
     "metadata": {},
     "output_type": "execute_result"
    }
   ],
   "source": [
    "Subfields()"
   ]
  },
  {
   "cell_type": "code",
   "execution_count": 17,
   "id": "d99309f1-e8bb-45aa-a080-5ed5a41afbd3",
   "metadata": {},
   "outputs": [],
   "source": [
    "def oddeven():\n",
    "    if((num%2)==0):\n",
    "        print(\"even number\")\n",
    "        result=\"even number\"\n",
    "    else:\n",
    "        print(\"odd number\")\n",
    "        result=\"odd number\"\n",
    "        return oddeven"
   ]
  },
  {
   "cell_type": "code",
   "execution_count": 19,
   "id": "2f10f91a-cad6-4721-a7cc-c7e25632fb40",
   "metadata": {},
   "outputs": [
    {
     "name": "stdin",
     "output_type": "stream",
     "text": [
      "enter a number: 52452\n"
     ]
    },
    {
     "name": "stdout",
     "output_type": "stream",
     "text": [
      "even number\n"
     ]
    }
   ],
   "source": [
    "num=int(input(\"enter a number:\"))\n",
    "oddevenresult=oddeven()"
   ]
  },
  {
   "cell_type": "code",
   "execution_count": 7,
   "id": "da342e19-8aa3-4d4c-a141-8a33f63104f1",
   "metadata": {},
   "outputs": [],
   "source": [
    "male=21\n",
    "female=18"
   ]
  },
  {
   "cell_type": "code",
   "execution_count": 9,
   "id": "62ce569a-4d0f-4a07-b987-7ea2aaee2b88",
   "metadata": {},
   "outputs": [],
   "source": [
    "def elegibility():\n",
    "    if(male<=21):\n",
    "        print(\"not eligible\")\n",
    "        result=\"not eligible\"\n",
    "    else:\n",
    "        print(\"elegible\")\n",
    "        result=\"elegible\"\n",
    "        return result"
   ]
  },
  {
   "cell_type": "code",
   "execution_count": 11,
   "id": "8b38b3ac-3d95-425a-a734-2c6c884b469a",
   "metadata": {},
   "outputs": [
    {
     "name": "stdin",
     "output_type": "stream",
     "text": [
      "your gender: male\n",
      "your age: 20\n"
     ]
    },
    {
     "name": "stdout",
     "output_type": "stream",
     "text": [
      "not eligible\n"
     ]
    }
   ],
   "source": [
    "gender=input(\"your gender:\")\n",
    "age=int(input(\"your age:\"))\n",
    "elegibility()"
   ]
  },
  {
   "cell_type": "code",
   "execution_count": 13,
   "id": "9e6470a9-0c50-4d66-8f2c-96773134e1f6",
   "metadata": {},
   "outputs": [],
   "source": [
    "subject1=98\n",
    "subject2=87\n",
    "subject3=95\n",
    "subject4=95\n",
    "subject5=93\n",
    "total=subject1+subject2+subject3+subject4+subject5\n",
    "total_marks=500\n",
    "percentage_of_marks=((total/total_marks)*100)"
   ]
  },
  {
   "cell_type": "code",
   "execution_count": 15,
   "id": "003cf7a4-6f06-4dee-8624-3a5e286a9aa8",
   "metadata": {},
   "outputs": [],
   "source": [
    "def percentage():\n",
    "    print(\"total\")\n",
    "    print(total)\n",
    "    print(\"percentage_of_marks\")\n",
    "    print(percentage_of_marks)"
   ]
  },
  {
   "cell_type": "code",
   "execution_count": 17,
   "id": "f808cbff-b79d-45de-9a12-f6581e40608a",
   "metadata": {},
   "outputs": [
    {
     "name": "stdout",
     "output_type": "stream",
     "text": [
      "total\n",
      "468\n",
      "percentage_of_marks\n",
      "93.60000000000001\n"
     ]
    }
   ],
   "source": [
    "percentage()"
   ]
  },
  {
   "cell_type": "code",
   "execution_count": 19,
   "id": "5e06e607-52a7-4c71-b818-fc59fda17b5c",
   "metadata": {},
   "outputs": [],
   "source": [
    "height=32\n",
    "breadth=34\n",
    "area_formula=(height*breadth)/2\n",
    "height1=2\n",
    "height2=4\n",
    "breadth1=4\n",
    "perimeter_formula=height1+height2+breadth1"
   ]
  },
  {
   "cell_type": "code",
   "execution_count": 21,
   "id": "578c7234-b4b2-4c1e-8fba-4f2c002af34a",
   "metadata": {},
   "outputs": [],
   "source": [
    "def triangle():\n",
    "    print(\"area_formula\")\n",
    "    print(area_formula)\n",
    "    print(\"perimeter_formula\")\n",
    "    print(perimeter_formula)"
   ]
  },
  {
   "cell_type": "code",
   "execution_count": 23,
   "id": "6fe69420-6638-4d2b-8876-7e4d2d7d1388",
   "metadata": {},
   "outputs": [
    {
     "name": "stdout",
     "output_type": "stream",
     "text": [
      "area_formula\n",
      "544.0\n",
      "perimeter_formula\n",
      "10\n"
     ]
    }
   ],
   "source": [
    "triangle()"
   ]
  },
  {
   "cell_type": "code",
   "execution_count": null,
   "id": "8d73ea9b-9f31-40b1-9dfd-f49f5f3de5ee",
   "metadata": {},
   "outputs": [],
   "source": []
  }
 ],
 "metadata": {
  "kernelspec": {
   "display_name": "Python [conda env:base] *",
   "language": "python",
   "name": "conda-base-py"
  },
  "language_info": {
   "codemirror_mode": {
    "name": "ipython",
    "version": 3
   },
   "file_extension": ".py",
   "mimetype": "text/x-python",
   "name": "python",
   "nbconvert_exporter": "python",
   "pygments_lexer": "ipython3",
   "version": "3.12.7"
  }
 },
 "nbformat": 4,
 "nbformat_minor": 5
}
