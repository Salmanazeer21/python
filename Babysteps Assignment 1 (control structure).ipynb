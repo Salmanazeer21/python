{
 "cells": [
  {
   "cell_type": "code",
   "execution_count": 3,
   "id": "f2dedf19-047c-465c-97df-5794aacfa38f",
   "metadata": {},
   "outputs": [
    {
     "name": "stdout",
     "output_type": "stream",
     "text": [
      "Welcome to Assignment-1\n"
     ]
    }
   ],
   "source": [
    "print(\"Welcome to Assignment-1\")"
   ]
  },
  {
   "cell_type": "code",
   "execution_count": 5,
   "id": "92ed1caf-aa0b-47b1-9fe2-eb521e007831",
   "metadata": {},
   "outputs": [],
   "source": [
    "Num1=10\n",
    "Num2=30\n",
    "Add=Num1+Num2"
   ]
  },
  {
   "cell_type": "code",
   "execution_count": 9,
   "id": "1dd9f2d8-ccdc-4efc-a206-ee69fafc79b6",
   "metadata": {},
   "outputs": [
    {
     "name": "stdout",
     "output_type": "stream",
     "text": [
      "Add\n",
      "40\n"
     ]
    }
   ],
   "source": [
    "print(\"Add\")\n",
    "print(Add)"
   ]
  },
  {
   "cell_type": "code",
   "execution_count": 21,
   "id": "d74b7069-ba3b-4cb4-aec5-f2684b23ec20",
   "metadata": {},
   "outputs": [],
   "source": [
    "bmi=34"
   ]
  },
  {
   "cell_type": "code",
   "execution_count": 23,
   "id": "3d776e4d-b237-4891-876b-312bd65804b1",
   "metadata": {},
   "outputs": [
    {
     "name": "stdout",
     "output_type": "stream",
     "text": [
      "very overweight\n"
     ]
    }
   ],
   "source": [
    "if(bmi<=18):\n",
    "    print(\"underweight\")\n",
    "elif(bmi<24):\n",
    "    print(\"normal weight\")\n",
    "elif(bmi<29):\n",
    "    print(\"over weight\")\n",
    "else:\n",
    "    print(\"very overweight\")"
   ]
  },
  {
   "cell_type": "code",
   "execution_count": null,
   "id": "930ee4fb-1dd3-40e4-baf0-0c48268f7265",
   "metadata": {},
   "outputs": [],
   "source": []
  }
 ],
 "metadata": {
  "kernelspec": {
   "display_name": "Python [conda env:base] *",
   "language": "python",
   "name": "conda-base-py"
  },
  "language_info": {
   "codemirror_mode": {
    "name": "ipython",
    "version": 3
   },
   "file_extension": ".py",
   "mimetype": "text/x-python",
   "name": "python",
   "nbconvert_exporter": "python",
   "pygments_lexer": "ipython3",
   "version": "3.12.7"
  }
 },
 "nbformat": 4,
 "nbformat_minor": 5
}
